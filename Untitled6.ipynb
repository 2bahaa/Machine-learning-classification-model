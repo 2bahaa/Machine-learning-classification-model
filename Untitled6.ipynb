{
  "nbformat": 4,
  "nbformat_minor": 0,
  "metadata": {
    "colab": {
      "provenance": [],
      "authorship_tag": "ABX9TyNW016a9cZ2khXkUxb/2FMQ",
      "include_colab_link": true
    },
    "kernelspec": {
      "name": "python3",
      "display_name": "Python 3"
    },
    "language_info": {
      "name": "python"
    }
  },
  "cells": [
    {
      "cell_type": "markdown",
      "metadata": {
        "id": "view-in-github",
        "colab_type": "text"
      },
      "source": [
        "<a href=\"https://colab.research.google.com/github/2bahaa/Machine-learning-classification-model/blob/main/Untitled6.ipynb\" target=\"_parent\"><img src=\"https://colab.research.google.com/assets/colab-badge.svg\" alt=\"Open In Colab\"/></a>"
      ]
    },
    {
      "cell_type": "code",
      "execution_count": null,
      "metadata": {
        "id": "AJ-AoR23bqce"
      },
      "outputs": [],
      "source": [
        "!pip install -q sklearn\n",
        "%tensorflow_version 2.x  # this line is not required unless you are in a notebook\n",
        "\n",
        "from __future__ import absolute_import, division, print_function, unicode_literals\n",
        "import tensorflow as tf\n",
        "import pandas as pd\n",
        "\n",
        "CSV_COLUMN_NAMES = ['SepalLength', 'SepalWidth', 'PetalLength', 'PetalWidth', 'Species']\n",
        "SPECIES = ['Setosa', 'Versicolor', 'Virginica']\n",
        "\n",
        "train_path=tf.keras.utils.get_file(\"iris_training.csv\", \"https://storage.googleapis.com/download.tensorflow.org/data/iris_training.csv\") #load data from keras module\n",
        "test_path=tf.keras.utils.get_file(\"iris_test.csv\",\"https://storage.googleapis.com/download.tensorflow.org/data/iris_test.csv\") #load test data from keras\n",
        "\n",
        "train=pd.read_csv(train_path,names=CSV_COLUMN_NAMES,header=0) #load train data from keras module into a pandas dataframe\n",
        "test=pd.read_csv(test_path,names=CSV_COLUMN_NAMES,header=0)   #load test data from keras module into a pandas dataframe\n",
        "\n",
        "\n",
        "train_y=train.pop('Species')\n",
        "test_y=test.pop('Species')\n",
        "\n",
        "#train.head()\n",
        "\n",
        "def input_fun(features,labels,training=True,batch_size=256):\n",
        "  # Convert labels to a NumPy array to resolve ambiguity\n",
        " # labels = labels.values\n",
        "  ds=tf.data.Dataset.from_tensor_slices((dict(features),labels))  # create dataset from features and pass labels\n",
        "  if training:\n",
        "    ds=ds.shuffle(1000).repeat()\n",
        "  return ds.batch(batch_size)\n",
        "\n",
        "feature_column=[]\n",
        "for keys in train.keys():\n",
        "  feature_column.append(tf.feature_column.numeric_column(key=keys))\n",
        "\n",
        "#print(feature_column)\n",
        "\n",
        "\n",
        "classifier=tf.estimator.DNNClassifier(feature_columns=feature_column,hidden_units=[30,10],n_classes=3) #build model using deep neural network\n",
        "classifier.train(\n",
        "    input_fn=lambda: input_fun(train, train_y, training=True),\n",
        "    steps=5000)\n",
        "\n",
        "eval_result = classifier.evaluate(\n",
        "    input_fn=lambda: input_fun(test, test_y, training=False))\n",
        "\n",
        "print('\\nTest set accuracy: {accuracy:0.3f}\\n'.format(**eval_result))\n",
        "\n",
        "\n",
        "def input_fn(features, batch_size=256):\n",
        "  return tf.data.Dataset.from_tensor_slices(dict(features)).batch(batch_size)\n",
        "\n",
        "features=['SepalLength', 'SepalWidth', 'PetalLength', 'PetalWidth']\n",
        "predict={}\n",
        "\n",
        "print(\"Please type numeric values as prompted.\")\n",
        "for feature in features:\n",
        "  valid = True\n",
        "  while valid:\n",
        "    val = input(feature + \": \")\n",
        "    if not val.isdigit(): valid = False\n",
        "\n",
        "  predict[feature] = [float(val)]\n",
        "\n",
        "predictions = classifier.predict(input_fn=lambda: input_fn(predict))\n",
        "for pred_dict in predictions:\n",
        "    class_id = pred_dict['class_ids'][0]\n",
        "    probability = pred_dict['probabilities'][class_id]\n",
        "    print(pred_dict)\n",
        "\n",
        "    print('Prediction is \"{}\" ({:.1f}%)'.format(\n",
        "        SPECIES[class_id], 100 * probability))\n",
        "\n",
        "\n",
        "\n",
        "\n",
        "# Here is some example input and expected classes you can try above\n",
        "expected = ['Setosa', 'Versicolor', 'Virginica']\n",
        "predict_x = {\n",
        "    'SepalLength': [5.1, 5.9, 6.9],\n",
        "    'SepalWidth': [3.3, 3.0, 3.1],\n",
        "    'PetalLength': [1.7, 4.2, 5.4],\n",
        "    'PetalWidth': [0.5, 1.5, 2.1],\n",
        "}"
      ]
    }
  ]
}